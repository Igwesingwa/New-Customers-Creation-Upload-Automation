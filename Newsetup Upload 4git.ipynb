{
 "cells": [
  {
   "cell_type": "code",
   "execution_count": null,
   "id": "3632bc64",
   "metadata": {
    "scrolled": true
   },
   "outputs": [],
   "source": [
    "import selenium\n",
    "import datetime\n",
    "import pandas as pd\n",
    "from selenium import webdriver\n",
    "from selenium.webdriver.common.by import By\n",
    "from selenium.webdriver.support.ui import WebDriverWait #if you need to wait\n",
    "from selenium.webdriver.support import expected_conditions as EC\n",
    "from selenium.webdriver.support.ui import Select #if you need to select from a dropdown\n",
    "from selenium.webdriver.common.action_chains import ActionChains\n",
    "import requests\n",
    "from datetime import date\n",
    "from datetime import timedelta\n",
    "from selenium.common.exceptions import NoSuchElementException\n",
    "from selenium.common.exceptions import StaleElementReferenceException\n",
    "\n",
    "browser= webdriver.Chrome()\n",
    "\n",
    "webApp_url= 'web_url'\n",
    "browser.get(webApp_url)\n",
    "\n",
    "#credentials\n",
    "cred= pd.read_excel('credentials.xlsx')\n",
    "myUserName= cred.loc[0]['Username']\n",
    "myPassword= cred.loc[0]['Password']\n",
    "\n",
    "#LOG IN\n",
    "# find and enter username\n",
    "username= browser.find_element(By.ID,'txtUserName')\n",
    "username.send_keys(myUserName)\n",
    "# find and enter password\n",
    "pwd= browser.find_element(By.ID,'txtPassword')\n",
    "pwd.send_keys(myPassword)\n",
    "# Sign In\n",
    "submit_button= browser.find_element(By.ID,'btnLogin')#Search for Sign in Link\n",
    "submit_button.click() \n",
    "\n",
    "#DEFINE SCRAPER METHOD\n",
    "def scraper(browser, link, xpath):\n",
    "    requests.get(link).text\n",
    "    html= browser.find_element(By.XPATH,  xpath)\n",
    "    #print(html.get_attribute('outerHTML'))\n",
    "    exceptions_= pd.read_html(html.get_attribute('outerHTML'))\n",
    "    return exceptions_\n",
    "\n",
    "\n",
    "#select BU\n",
    "try:\n",
    "    select_bu= Select(browser.find_element(By.ID,'ddlBusinessUnits'))#Search for Sign in Link\n",
    "    select_bu= WebDriverWait(browser,10).until(EC.presence_of_element_located((By.XPATH,\"//select[@id='ddlBusinessUnits']/option[5]\"))).click()\n",
    "    #select_bu.select_by_visible_text('REGION_1')\n",
    "    \n",
    "except StaleElementReferenceException:\n",
    "    print('Exception Handled: StaleElementReferenceException')\n",
    "    \n",
    "select_bu= Select(browser.find_element(By.ID,'ddlBusinessUnits'))#Search for Sign in Link\n",
    "select_bu= WebDriverWait(browser,10).until(EC.presence_of_element_located((By.XPATH,\"//select[@id='ddlBusinessUnits']/option[5]\"))).click()\n",
    "\n",
    "# OK Button\n",
    "ok_button= browser.find_element(By.ID,'btnOK')#Search for Sign in Link\n",
    "ok_button.click() \n"
   ]
  },
  {
   "cell_type": "code",
   "execution_count": null,
   "id": "87d832c2",
   "metadata": {},
   "outputs": [],
   "source": [
    "# needed for hovering and other actions\n",
    "action= ActionChains(browser)\n",
    "#Waits for 5 seconds in case of delay\n",
    "customer_management_menu= WebDriverWait(browser,5).until(EC.presence_of_element_located((By.CLASS_NAME,'dropdown-toggle')))\n",
    "action.move_to_element(customer_management_menu).perform()\n",
    "\n",
    "#Bulk Customer Creation Upload Status\n",
    "newsetup_status= browser.find_element(By.LINK_TEXT,'Bulk Customer Creation Upload Status')\n",
    "action.move_to_element(newsetup_status).perform()\n",
    "newsetup_status.click()\n",
    "\n",
    "#Get and enter date\n",
    "today = date.today()\n",
    "todays_date = today.strftime(\"%d/%m/%Y\")\n",
    "start_date= today - timedelta(days=30)\n",
    "\n",
    "start_date= start_date.strftime(\"%d/%m/%Y\")\n",
    "start_date\n",
    "\n",
    "# find and enter From Date\n",
    "from_date= browser.find_element(By.ID,'UMSNigeriaBody_txtFromDate')\n",
    "from_date.send_keys(start_date)\n",
    "\n",
    "# find and enter From Date\n",
    "to_date= browser.find_element(By.ID,'UMSNigeriaBody_txtToDate')\n",
    "to_date.send_keys(todays_date)\n",
    "\n",
    "# GO Button\n",
    "go_date_button= browser.find_element(By.ID,'UMSNigeriaBody_btnGo')#Search for Sign in Link\n",
    "go_date_button.click()\n",
    "\n",
    "\n",
    "\n"
   ]
  },
  {
   "cell_type": "code",
   "execution_count": null,
   "id": "27a8ee13",
   "metadata": {},
   "outputs": [],
   "source": [
    "#get last batch number\n",
    "previous_batch= browser.find_element(By.XPATH, (\"//table[@id='UMSNigeriaBody_gvCustomersStatus']/tbody/tr[2]/td[2]\"))\n",
    "#print(previous_batch.text)\n",
    "\n",
    "previous_batch_no= previous_batch.text\n",
    "current_batch_number= int(previous_batch_no)+ 1"
   ]
  },
  {
   "cell_type": "code",
   "execution_count": null,
   "id": "c8897918",
   "metadata": {},
   "outputs": [],
   "source": [
    "\n",
    "\n",
    "#Waits for 5 seconds in case of delay\n",
    "customer_management_menu= WebDriverWait(browser,5).until(EC.presence_of_element_located((By.CLASS_NAME,'dropdown-toggle')))\n",
    "action.move_to_element(customer_management_menu).perform()\n",
    "\n",
    "#UPLOAD FILE\n",
    "newsetup_upload= browser.find_element(By.LINK_TEXT,'Bulk Customer Creation Uploads')\n",
    "action.move_to_element(newsetup_upload).perform()\n",
    "\n",
    "newsetup_upload.click()"
   ]
  },
  {
   "cell_type": "code",
   "execution_count": null,
   "id": "00de537a",
   "metadata": {},
   "outputs": [],
   "source": [
    "#enter batch number\n",
    "enter_batch= browser.find_element(By.ID,'UMSNigeriaBody_txtBatchNoNew')\n",
    "enter_batch.send_keys(current_batch_number)"
   ]
  },
  {
   "cell_type": "code",
   "execution_count": null,
   "id": "6c9ab4e4",
   "metadata": {},
   "outputs": [],
   "source": [
    "# find and enter Batch Date\n",
    "batch_date= browser.find_element(By.ID,'UMSNigeriaBody_txtBatchDate')\n",
    "batch_date.send_keys(todays_date)"
   ]
  },
  {
   "cell_type": "code",
   "execution_count": null,
   "id": "5eb620a3",
   "metadata": {},
   "outputs": [],
   "source": [
    "upload_file_name= 'file name'"
   ]
  },
  {
   "cell_type": "code",
   "execution_count": null,
   "id": "6e266b16",
   "metadata": {
    "scrolled": true
   },
   "outputs": [],
   "source": [
    "# ENTER NOTES\n",
    "notes_input= browser.find_element(By.ID,'UMSNigeriaBody_txtNotes')\n",
    "notes_input.send_keys(upload_file_name)"
   ]
  },
  {
   "cell_type": "code",
   "execution_count": null,
   "id": "a5b52bfc",
   "metadata": {},
   "outputs": [],
   "source": [
    "#CHECK SSETUP FILE\n",
    "setup_file= pd.read_excel('file_name')"
   ]
  },
  {
   "cell_type": "code",
   "execution_count": null,
   "id": "303dcdfd",
   "metadata": {},
   "outputs": [],
   "source": [
    "setup_file.rename(columns = {'EmailId':'Email'}, inplace = True)"
   ]
  },
  {
   "cell_type": "code",
   "execution_count": null,
   "id": "57cb8a58",
   "metadata": {},
   "outputs": [],
   "source": [
    "bu_new_setup= setup_file[setup_file['Region_Name']=='Region_2']"
   ]
  },
  {
   "cell_type": "code",
   "execution_count": null,
   "id": "78990bba",
   "metadata": {},
   "outputs": [],
   "source": [
    "bu_new_setup = bu_new_setup.drop(['EBMSBUName','UniqueID','BusinessUnitID','IllegalStatus'], axis=1)"
   ]
  },
  {
   "cell_type": "code",
   "execution_count": null,
   "id": "3c362ebb",
   "metadata": {
    "scrolled": true
   },
   "outputs": [],
   "source": [
    "bu_new_setup['ApplicationDate']= pd.to_datetime(bu_new_setup['ApplicationDate']).dt.date"
   ]
  },
  {
   "cell_type": "code",
   "execution_count": null,
   "id": "eb5928f8",
   "metadata": {},
   "outputs": [],
   "source": [
    "bu_new_setup.to_excel(upload_file_name, index=True, index_label='SNo') #insert SNO"
   ]
  },
  {
   "cell_type": "code",
   "execution_count": null,
   "id": "fcbaad57",
   "metadata": {},
   "outputs": [],
   "source": [
    "# upload file\n",
    "upload_newsetup_file= browser.find_element(By.ID,'UMSNigeriaBody_upDOCExcel')\n",
    "\n",
    "upload_newsetup_file.send_keys('C:/Users/User Directory/file_name.xlsx') "
   ]
  },
  {
   "cell_type": "code",
   "execution_count": null,
   "id": "c485c52e",
   "metadata": {},
   "outputs": [],
   "source": [
    "# GO Button\n",
    "upload_data= browser.find_element(By.ID,'UMSNigeriaBody_btnNext')#Search for Sign in Link\n",
    "upload_data.click()"
   ]
  },
  {
   "cell_type": "code",
   "execution_count": null,
   "id": "cb71f2a1",
   "metadata": {},
   "outputs": [],
   "source": [
    "#Get and enter date\n",
    "today = date.today()\n",
    "todays_date = today.strftime(\"%d/%m/%Y\")\n",
    "start_date= today - timedelta(days=30)\n",
    "\n",
    "start_date= start_date.strftime(\"%d/%m/%Y\")\n",
    "start_date\n",
    "\n"
   ]
  },
  {
   "cell_type": "code",
   "execution_count": null,
   "id": "2bd88ba8",
   "metadata": {},
   "outputs": [],
   "source": [
    "# GO Button\n",
    "ok_button= browser.find_element(By.ID,'UMSNigeriaBody_btngridalertok')#Search for Sign in Link\n",
    "ok_button.click()"
   ]
  },
  {
   "cell_type": "code",
   "execution_count": null,
   "id": "7d44dc1a",
   "metadata": {},
   "outputs": [],
   "source": [
    "# needed for hovering and other actions\n",
    "action= ActionChains(browser)\n",
    "#Waits for 5 seconds in case of delay\n",
    "customer_management_menu= WebDriverWait(browser,5).until(EC.presence_of_element_located((By.CLASS_NAME,'dropdown-toggle')))\n",
    "action.move_to_element(customer_management_menu).perform()\n",
    "#Bulk Customer Creation Upload Status\n",
    "newsetup_status= browser.find_element(By.LINK_TEXT,'Bulk Customer Creation Upload Status')\n",
    "action.move_to_element(newsetup_status).perform()\n",
    "newsetup_status.click()\n",
    "\n",
    "\n",
    "#Get and enter date\n",
    "today = date.today()\n",
    "todays_date = today.strftime(\"%d/%m/%Y\")\n",
    "start_date= today - timedelta(days=30)\n",
    "\n",
    "start_date= start_date.strftime(\"%d/%m/%Y\")\n",
    "start_date\n",
    "\n",
    "# find and enter From Date\n",
    "from_date= browser.find_element(By.ID,'UMSNigeriaBody_txtFromDate')\n",
    "from_date.send_keys(start_date)\n",
    "\n",
    "# find and enter From Date\n",
    "to_date= browser.find_element(By.ID,'UMSNigeriaBody_txtToDate')\n",
    "to_date.send_keys(todays_date)\n",
    "\n",
    "# GO Button\n",
    "go_date_button= browser.find_element(By.ID,'UMSNigeriaBody_btnGo')#Search for Sign in Link\n",
    "go_date_button.click()\n",
    "\n"
   ]
  },
  {
   "cell_type": "code",
   "execution_count": null,
   "id": "f22494ee",
   "metadata": {},
   "outputs": [],
   "source": [
    "\n",
    "#Get and enter date\n",
    "today = date.today()\n",
    "todays_date = today.strftime(\"%d/%m/%Y\")\n",
    "start_date= today - timedelta(days=30)\n",
    "\n",
    "start_date= start_date.strftime(\"%d/%m/%Y\")\n",
    "start_date\n",
    "\n",
    "# find and enter From Date\n",
    "from_date= browser.find_element(By.ID,'UMSNigeriaBody_txtFromDate')\n",
    "from_date.send_keys(start_date)\n",
    "\n",
    "# find and enter From Date\n",
    "to_date= browser.find_element(By.ID,'UMSNigeriaBody_txtToDate')\n",
    "to_date.send_keys(todays_date)\n",
    "\n",
    "# GO Button\n",
    "go_date_button= browser.find_element(By.ID,'UMSNigeriaBody_btnGo')#Search for Sign in Link\n",
    "go_date_button.click()\n"
   ]
  }
 ],
 "metadata": {
  "kernelspec": {
   "display_name": "Python 3 (ipykernel)",
   "language": "python",
   "name": "python3"
  },
  "language_info": {
   "codemirror_mode": {
    "name": "ipython",
    "version": 3
   },
   "file_extension": ".py",
   "mimetype": "text/x-python",
   "name": "python",
   "nbconvert_exporter": "python",
   "pygments_lexer": "ipython3",
   "version": "3.9.7"
  }
 },
 "nbformat": 4,
 "nbformat_minor": 5
}
